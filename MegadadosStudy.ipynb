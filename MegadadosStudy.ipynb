{
 "cells": [
  {
   "cell_type": "code",
   "execution_count": 1,
   "metadata": {},
   "outputs": [],
   "source": [
    "from functools import partial\n",
    "import mysql.connector\n",
    "\n",
    "connection = mysql.connector.connect(\n",
    "    host='localhost',\n",
    "    user='megadados',\n",
    "    password='', #sua senha\n",
    "    database='musica', #Nome database que quer acessar\n",
    ")\n",
    "\n",
    "\n",
    "def run_db_query(connection, query, args=None):\n",
    "    with connection.cursor() as cursor:\n",
    "        print('Executando query:')\n",
    "        cursor.execute(query, args)\n",
    "        for result in cursor:\n",
    "            print(result)\n",
    "\n",
    "\n",
    "db = partial(run_db_query, connection)"
   ]
  },
  {
   "cell_type": "code",
   "execution_count": 2,
   "metadata": {},
   "outputs": [
    {
     "name": "stdout",
     "output_type": "stream",
     "text": [
      "Executando query:\n",
      "('autor',)\n",
      "('cd',)\n",
      "('cd_categoria',)\n",
      "('faixa',)\n",
      "('gravadora',)\n",
      "('musica',)\n",
      "('musica_autor',)\n"
     ]
    }
   ],
   "source": [
    "#Visualizando as tabelas\n",
    "db('SHOW TABLES')"
   ]
  },
  {
   "cell_type": "code",
   "execution_count": 3,
   "metadata": {},
   "outputs": [
    {
     "name": "stdout",
     "output_type": "stream",
     "text": [
      "Executando query:\n",
      "('Codigo_Musica', b'int', 'NO', 'PRI', None, '')\n",
      "('Nome_Musica', b'varchar(60)', 'YES', '', None, '')\n",
      "('Duracao', b'int', 'YES', '', None, '')\n"
     ]
    }
   ],
   "source": [
    "#Visualizando o schema\n",
    "db('DESCRIBE musica')"
   ]
  },
  {
   "cell_type": "markdown",
   "metadata": {},
   "source": [
    "## Pipeline do comando Select ##\n",
    "```\n",
    "SELECT [DISTINCT] coluna(s)\n",
    "FROM tabela(s)\n",
    "WHERE condição\n",
    "GROUP BY grupo de uma coluna\n",
    "HAVING condição (aplicada após GROUP BY)\n",
    "ORDER BY expressao (pode ser coluna, ASC OU DESC)\n",
    "LIMIT nº max resultados\n",
    "OFFSET onde quer começar o limit\n",
    "```  \n",
    "\n",
    "\n",
    "A ordem de execução do comando `SELECT` é aproximadamente como segue:\n",
    "\n",
    "1. `FROM <source_tables>`: indica as tabelas que serão usadas nesta query e, conceitualmente, combina estas tabelas através de *produto cartesiano* em uma grande tabela. (Note o termo \"*conceitualmente*\" que usei: em termos de implementação da query este produto cartesiano raramente é construído.)\n",
    "\n",
    "2. `WHERE <filter_expression>`: filtra linhas.\n",
    "\n",
    "3. `GROUP BY <grouping_expressions>`: agrupa conjuntos de linhas.\n",
    "\n",
    "4. `SELECT <select_heading>`: escolha de colunas e de agregados.\n",
    "\n",
    "5. `HAVING <filter_expression>`: outra filtragem, esta aplicada apenas **depois** da agregação. Pode usar resultados do processo de agregação. Obriga o uso de `GROUP BY`.\n",
    "\n",
    "6. `DISTINCT`: Elimina linhas duplicadas.\n",
    "\n",
    "7. `ORDER BY`: ordena as linhas do resultado.\n",
    "\n",
    "8. `OFFSET <count>`: Pula linhas do resultado. Requer LIMIT.\n",
    "\n",
    "9. `LIMIT <count>`: Mantém apenas um número máximo de linhas.\n",
    "\n",
    "Esta sequencia também serve como dica de como projetar uma query! \n",
    "- Comece identificando as tabelas que você deseja usar\n",
    "- Monte o filtro de linhas, incluindo critérios de `JOIN`\n",
    "- Agrupe\n",
    "- Selecione colunas e aplique funções de agregação, conforme necessário\n",
    "- Filtre com `HAVING`, agora que temos agregação\n",
    "- O resto é mais fácil, aplique conforme requerido"
   ]
  },
  {
   "cell_type": "markdown",
   "metadata": {},
   "source": [
    "## Comando Create"
   ]
  },
  {
   "cell_type": "code",
   "execution_count": 4,
   "metadata": {},
   "outputs": [
    {
     "name": "stdout",
     "output_type": "stream",
     "text": [
      "Executando query:\n",
      "Executando query:\n"
     ]
    }
   ],
   "source": [
    "db('DROP TABLE IF EXISTS Usuario')\n",
    "db('''CREATE TABLE Usuario(\n",
    "    nome VARCHAR(45),\n",
    "    usuario_id INT NOT NULL AUTO_INCREMENT,\n",
    "    musica_favorita_id INT,\n",
    "    PRIMARY KEY (usuario_id),\n",
    "    CONSTRAINT fk_musica_favorita FOREIGN KEY (musica_favorita_id)\n",
    "        REFERENCES musica (Codigo_musica)\n",
    "  )''')"
   ]
  },
  {
   "cell_type": "markdown",
   "metadata": {},
   "source": [
    "## Comando Insert"
   ]
  },
  {
   "cell_type": "code",
   "execution_count": 5,
   "metadata": {},
   "outputs": [
    {
     "name": "stdout",
     "output_type": "stream",
     "text": [
      "Executando query:\n"
     ]
    }
   ],
   "source": [
    "db('''INSERT INTO Usuario (nome, musica_favorita_id) VALUES \n",
    "   (\"Joao\", 9 ),\n",
    "   (\"Carla\", 1),\n",
    "   (\"Tiago\", 19),\n",
    "   (\"Tomas\", 19),\n",
    "   (\"Tatiana\", 19),\n",
    "   (\"Temer\", 19)\n",
    "   ''')"
   ]
  },
  {
   "cell_type": "code",
   "execution_count": 6,
   "metadata": {},
   "outputs": [
    {
     "name": "stdout",
     "output_type": "stream",
     "text": [
      "Executando query:\n",
      "('Joao', 1, 9)\n",
      "('Carla', 2, 1)\n",
      "('Tiago', 3, 19)\n",
      "('Tomas', 4, 19)\n",
      "('Tatiana', 5, 19)\n",
      "('Temer', 6, 19)\n"
     ]
    }
   ],
   "source": [
    "db('SELECT * FROM Usuario')"
   ]
  },
  {
   "cell_type": "markdown",
   "metadata": {},
   "source": [
    "## Comando Update"
   ]
  },
  {
   "cell_type": "code",
   "execution_count": 7,
   "metadata": {},
   "outputs": [
    {
     "name": "stdout",
     "output_type": "stream",
     "text": [
      "Executando query:\n"
     ]
    }
   ],
   "source": [
    "db('UPDATE Usuario SET musica_favorita_id = 5 WHERE nome LIKE \"T%\"')"
   ]
  },
  {
   "cell_type": "code",
   "execution_count": 8,
   "metadata": {},
   "outputs": [
    {
     "name": "stdout",
     "output_type": "stream",
     "text": [
      "Executando query:\n",
      "('Joao', 1, 9)\n",
      "('Carla', 2, 1)\n",
      "('Tiago', 3, 5)\n",
      "('Tomas', 4, 5)\n",
      "('Tatiana', 5, 5)\n",
      "('Temer', 6, 5)\n"
     ]
    }
   ],
   "source": [
    "db('SELECT * FROM Usuario')"
   ]
  },
  {
   "cell_type": "markdown",
   "metadata": {},
   "source": [
    "## Joins + Temporary Table\n",
    "### Inner Join\n",
    "#### Juntar tabelas se e somente se  os valores que quer comparar existirem em ambas\n",
    "#### Exemplo: Tabela com nome da pessoa e nome da música favorita\n",
    "#### OBS: dropar a tabela quando terminar de usar"
   ]
  },
  {
   "cell_type": "code",
   "execution_count": 10,
   "metadata": {},
   "outputs": [
    {
     "name": "stdout",
     "output_type": "stream",
     "text": [
      "Executando query:\n",
      "Executando query:\n"
     ]
    }
   ],
   "source": [
    "db('''DROP TABLE IF EXISTS Usuario_FavSong''')\n",
    "db('''CREATE TEMPORARY TABLE Usuario_FavSong SELECT nome, Nome_musica FROM Usuario \n",
    "    INNER JOIN musica ON Usuario.musica_favorita_id = musica.Codigo_Musica\n",
    "    ''')"
   ]
  },
  {
   "cell_type": "code",
   "execution_count": 11,
   "metadata": {},
   "outputs": [
    {
     "name": "stdout",
     "output_type": "stream",
     "text": [
      "Executando query:\n",
      "('Joao', 'Há Tempos')\n",
      "('Carla', 'Será')\n",
      "('Tiago', 'Tempo Perdido')\n",
      "('Tomas', 'Tempo Perdido')\n",
      "('Tatiana', 'Tempo Perdido')\n",
      "('Temer', 'Tempo Perdido')\n"
     ]
    }
   ],
   "source": [
    "db(\"SELECT * FROM Usuario_FavSong\")"
   ]
  },
  {
   "cell_type": "markdown",
   "metadata": {},
   "source": [
    "### Outer Left e Right Joins"
   ]
  },
  {
   "cell_type": "code",
   "execution_count": 12,
   "metadata": {},
   "outputs": [
    {
     "name": "stdout",
     "output_type": "stream",
     "text": [
      "Executando query:\n",
      "Executando query:\n"
     ]
    }
   ],
   "source": [
    "db('''DROP TABLE IF EXISTS musicas_nofav ''')\n",
    "db('''CREATE TEMPORARY TABLE  musicas_nofav SELECT Nome_Musica FROM musica LEFT OUTER JOIN Usuario \n",
    "    ON Usuario.musica_favorita_id = musica.Codigo_Musica\n",
    "    WHERE Usuario.usuario_id IS NULL\n",
    "    ''')"
   ]
  },
  {
   "cell_type": "code",
   "execution_count": 14,
   "metadata": {},
   "outputs": [
    {
     "name": "stdout",
     "output_type": "stream",
     "text": [
      "Executando query:\n",
      "('Ainda é Cedo',)\n",
      "('Geração Coca-Cola',)\n"
     ]
    }
   ],
   "source": [
    "db(\"SELECT * FROM musicas_nofav LIMIT 2\")"
   ]
  },
  {
   "cell_type": "markdown",
   "metadata": {},
   "source": [
    "### GROUP BY"
   ]
  },
  {
   "cell_type": "code",
   "execution_count": 16,
   "metadata": {},
   "outputs": [
    {
     "name": "stdout",
     "output_type": "stream",
     "text": [
      "Executando query:\n",
      "(Decimal('61'), 'Renato Russo')\n",
      "(Decimal('32'), 'Tom Jobim')\n",
      "(Decimal('38'), 'Chico Buarque')\n",
      "(Decimal('38'), 'Dado Villa-Lobos')\n",
      "(Decimal('38'), 'Marcelo Bonfá')\n"
     ]
    }
   ],
   "source": [
    "### Selecionando duração total de trilhas por autor\n",
    "db('''SELECT sum(Duracao), nome_autor FROM musica \n",
    "INNER JOIN musica_autor USING(codigo_musica) \n",
    "INNER JOIN autor USING(Codigo_autor) \n",
    "GROUP BY nome_autor LIMIT 5''')"
   ]
  },
  {
   "cell_type": "code",
   "execution_count": 51,
   "metadata": {},
   "outputs": [
    {
     "name": "stdout",
     "output_type": "stream",
     "text": [
      "Executando query:\n",
      "('Carla',)\n",
      "('Tiago, Tomas, Tatiana, Temer',)\n",
      "('Joao',)\n"
     ]
    }
   ],
   "source": [
    "### Agrupa os nomes de usuários se tiverem as mesmas músicas favoritas\n",
    "db('''SELECT GROUP_CONCAT(nome SEPARATOR \", \") FROM Usuario GROUP BY musica_favorita_id \n",
    "''')"
   ]
  },
  {
   "cell_type": "markdown",
   "metadata": {},
   "source": [
    "## Modelo Relacional\n",
    "\n",
    "![](ModeloRelacional.png)"
   ]
  },
  {
   "cell_type": "markdown",
   "metadata": {},
   "source": [
    "## Operador LIKE\n",
    "\n",
    "![](LikeOperator.png)"
   ]
  },
  {
   "cell_type": "code",
   "execution_count": null,
   "metadata": {},
   "outputs": [],
   "source": []
  }
 ],
 "metadata": {
  "kernelspec": {
   "display_name": "Python 3",
   "language": "python",
   "name": "python3"
  },
  "language_info": {
   "codemirror_mode": {
    "name": "ipython",
    "version": 3
   },
   "file_extension": ".py",
   "mimetype": "text/x-python",
   "name": "python",
   "nbconvert_exporter": "python",
   "pygments_lexer": "ipython3",
   "version": "3.7.1"
  }
 },
 "nbformat": 4,
 "nbformat_minor": 2
}
