{
 "cells": [
  {
   "cell_type": "code",
   "execution_count": null,
   "metadata": {},
   "outputs": [],
   "source": [
    "from functools import partial\n",
    "import mysql.connector\n",
    "\n",
    "connection = mysql.connector.connect(\n",
    "    host='localhost',\n",
    "    user='megadados',\n",
    "    password='', #sua senha\n",
    "    database='musica', #Nome database que quer acessar\n",
    ")\n",
    "\n",
    "\n",
    "def run_db_query(connection, query, args=None):\n",
    "    with connection.cursor() as cursor:\n",
    "        print('Executando query:')\n",
    "        cursor.execute(query, args)\n",
    "        for result in cursor:\n",
    "            print(result)\n",
    "\n",
    "\n",
    "db = partial(run_db_query, connection)"
   ]
  },
  {
   "cell_type": "code",
   "execution_count": null,
   "metadata": {},
   "outputs": [],
   "source": [
    "#Visualizando as tabelas\n",
    "db('SHOW TABLES')"
   ]
  },
  {
   "cell_type": "code",
   "execution_count": null,
   "metadata": {},
   "outputs": [],
   "source": [
    "#Visualizando o schema\n",
    "db('DESCRIBE musica')"
   ]
  },
  {
   "cell_type": "markdown",
   "metadata": {},
   "source": [
    "## Pipeline do comando Select ##\n",
    "```\n",
    "SELECT [DISTINCT] coluna(s)\n",
    "FROM tabela(s)\n",
    "WHERE condição\n",
    "GROUP BY grupo de uma coluna\n",
    "HAVING condição (aplicada após GROUP BY)\n",
    "ORDER BY expressao (pode ser coluna, ASC OU DESC)\n",
    "LIMIT nº max resultados\n",
    "OFFSET onde quer começar o limit\n",
    "```  \n",
    "\n",
    "\n",
    "A ordem de execução do comando `SELECT` é aproximadamente como segue:\n",
    "\n",
    "1. `FROM <source_tables>`: indica as tabelas que serão usadas nesta query e, conceitualmente, combina estas tabelas através de *produto cartesiano* em uma grande tabela. (Note o termo \"*conceitualmente*\" que usei: em termos de implementação da query este produto cartesiano raramente é construído.)\n",
    "\n",
    "2. `WHERE <filter_expression>`: filtra linhas.\n",
    "\n",
    "3. `GROUP BY <grouping_expressions>`: agrupa conjuntos de linhas.\n",
    "\n",
    "4. `SELECT <select_heading>`: escolha de colunas e de agregados.\n",
    "\n",
    "5. `HAVING <filter_expression>`: outra filtragem, esta aplicada apenas **depois** da agregação. Pode usar resultados do processo de agregação. Obriga o uso de `GROUP BY`.\n",
    "\n",
    "6. `DISTINCT`: Elimina linhas duplicadas.\n",
    "\n",
    "7. `ORDER BY`: ordena as linhas do resultado.\n",
    "\n",
    "8. `OFFSET <count>`: Pula linhas do resultado. Requer LIMIT.\n",
    "\n",
    "9. `LIMIT <count>`: Mantém apenas um número máximo de linhas.\n",
    "\n",
    "Esta sequencia também serve como dica de como projetar uma query! \n",
    "- Comece identificando as tabelas que você deseja usar\n",
    "- Monte o filtro de linhas, incluindo critérios de `JOIN`\n",
    "- Agrupe\n",
    "- Selecione colunas e aplique funções de agregação, conforme necessário\n",
    "- Filtre com `HAVING`, agora que temos agregação\n",
    "- O resto é mais fácil, aplique conforme requerido"
   ]
  },
  {
   "cell_type": "markdown",
   "metadata": {},
   "source": [
    "## Comando Create"
   ]
  },
  {
   "cell_type": "code",
   "execution_count": null,
   "metadata": {},
   "outputs": [],
   "source": [
    "db('DROP TABLE IF EXISTS Usuario')\n",
    "db('''CREATE TABLE Usuario(\n",
    "    nome VARCHAR(45),\n",
    "    usuario_id INT NOT NULL AUTO_INCREMENT,\n",
    "    musica_favorita_id INT,\n",
    "    PRIMARY KEY (usuario_id),\n",
    "    CONSTRAINT fk_musica_favorita FOREIGN KEY (musica_favorita_id)\n",
    "        REFERENCES musica (Codigo_musica)\n",
    "  )''')"
   ]
  },
  {
   "cell_type": "markdown",
   "metadata": {},
   "source": [
    "## Comando Insert"
   ]
  },
  {
   "cell_type": "code",
   "execution_count": null,
   "metadata": {},
   "outputs": [],
   "source": [
    "db('''INSERT INTO Usuario (nome, musica_favorita_id) VALUES \n",
    "   (\"Joao\", 9 ),\n",
    "   (\"Carla\", 1),\n",
    "   (\"Tiago\", 19),\n",
    "   (\"Tomas\", 19),\n",
    "   (\"Tatiana\", 19),\n",
    "   (\"Temer\", 19)\n",
    "   ''')"
   ]
  },
  {
   "cell_type": "code",
   "execution_count": null,
   "metadata": {},
   "outputs": [],
   "source": [
    "db('SELECT * FROM Usuario')"
   ]
  },
  {
   "cell_type": "markdown",
   "metadata": {},
   "source": [
    "## Comando Update"
   ]
  },
  {
   "cell_type": "code",
   "execution_count": null,
   "metadata": {},
   "outputs": [],
   "source": [
    "db('UPDATE Usuario SET musica_favorita_id = 5 WHERE nome LIKE \"T%\"')"
   ]
  },
  {
   "cell_type": "code",
   "execution_count": null,
   "metadata": {},
   "outputs": [],
   "source": [
    "db('SELECT * FROM Usuario')"
   ]
  },
  {
   "cell_type": "markdown",
   "metadata": {},
   "source": [
    "## Joins + Temporary Table\n",
    "### Inner Join\n",
    "#### Juntar tabelas se e somente se  os valores que quer comparar existirem em ambas\n",
    "#### Exemplo: Tabela com nome da pessoa e nome da música favorita\n",
    "#### OBS: dropar a tabela quando terminar de usar"
   ]
  },
  {
   "cell_type": "code",
   "execution_count": null,
   "metadata": {},
   "outputs": [],
   "source": [
    "db('''DROP TABLE IF EXISTS Usuario_FavSong''')\n",
    "db('''CREATE TEMPORARY TABLE Usuario_FavSong SELECT nome, Nome_musica FROM Usuario \n",
    "    INNER JOIN musica ON Usuario.musica_favorita_id = musica.Codigo_Musica\n",
    "    ''')"
   ]
  },
  {
   "cell_type": "code",
   "execution_count": null,
   "metadata": {},
   "outputs": [],
   "source": [
    "db(\"SELECT * FROM Usuario_FavSong\")"
   ]
  },
  {
   "cell_type": "markdown",
   "metadata": {},
   "source": [
    "### Outer Left e Right Joins"
   ]
  },
  {
   "cell_type": "code",
   "execution_count": null,
   "metadata": {},
   "outputs": [],
   "source": [
    "db('''DROP TABLE IF EXISTS musicas_nofav ''')\n",
    "db('''CREATE TEMPORARY TABLE  musicas_nofav SELECT Nome_Musica FROM musica LEFT OUTER JOIN Usuario \n",
    "    ON Usuario.musica_favorita_id = musica.Codigo_Musica\n",
    "    WHERE Usuario.usuario_id IS NULL\n",
    "    ''')"
   ]
  },
  {
   "cell_type": "code",
   "execution_count": null,
   "metadata": {},
   "outputs": [],
   "source": [
    "db(\"SELECT * FROM musicas_nofav LIMIT 2\")"
   ]
  },
  {
   "cell_type": "markdown",
   "metadata": {},
   "source": [
    "### GROUP BY"
   ]
  },
  {
   "cell_type": "code",
   "execution_count": null,
   "metadata": {},
   "outputs": [],
   "source": [
    "### Selecionando duração total de trilhas por autor\n",
    "db('''SELECT sum(Duracao), nome_autor FROM musica \n",
    "INNER JOIN musica_autor USING(codigo_musica) \n",
    "INNER JOIN autor USING(Codigo_autor) \n",
    "GROUP BY nome_autor LIMIT 5''')"
   ]
  },
  {
   "cell_type": "code",
   "execution_count": null,
   "metadata": {},
   "outputs": [],
   "source": [
    "### Agrupa os nomes de usuários se tiverem as mesmas músicas favoritas\n",
    "db('''SELECT GROUP_CONCAT(nome SEPARATOR \", \") FROM Usuario GROUP BY musica_favorita_id \n",
    "''')"
   ]
  },
  {
   "cell_type": "code",
   "execution_count": null,
   "metadata": {},
   "outputs": [],
   "source": [
    "db('''DROP TABLE IF EXISTS teste ''')\n",
    "\n",
    "db('''CREATE TEMPORARY TABLE  teste SELECT \n",
    "    Codigo_autor, Nome_autor, COUNT( DISTINCT Codigo_cd) as cnt\n",
    "    FROM autor\n",
    "    INNER JOIN musica_autor USING(Codigo_autor)\n",
    "    INNER JOIN musica USING(Codigo_Musica)\n",
    "    INNER JOIN faixa USING(Codigo_Musica)\n",
    "    INNER JOIN cd USING(Codigo_cd)\n",
    "    GROUP BY Codigo_autor\n",
    "    ORDER BY cnt\n",
    "    DESC\n",
    "''')"
   ]
  },
  {
   "cell_type": "code",
   "execution_count": null,
   "metadata": {},
   "outputs": [],
   "source": [
    "db('''describe teste ''')"
   ]
  },
  {
   "cell_type": "code",
   "execution_count": null,
   "metadata": {},
   "outputs": [],
   "source": [
    "db(\"SELECT * FROM TESTE\")"
   ]
  },
  {
   "cell_type": "markdown",
   "metadata": {},
   "source": [
    "## Modelo Relacional\n",
    "\n",
    "![](ModeloRelacional.png)"
   ]
  },
  {
   "cell_type": "markdown",
   "metadata": {},
   "source": [
    "## Operador LIKE\n",
    "\n",
    "![](LikeOperator.png)"
   ]
  },
  {
   "cell_type": "code",
   "execution_count": null,
   "metadata": {},
   "outputs": [],
   "source": [
    "db(\"SELECT * FROM CD\")"
   ]
  },
  {
   "cell_type": "code",
   "execution_count": null,
   "metadata": {},
   "outputs": [],
   "source": [
    "from functools import partial\n",
    "import mysql.connector\n",
    "\n",
    "connection = mysql.connector.connect(\n",
    "    host='localhost',\n",
    "    user='megadados',\n",
    "    password='Nalacristina2003', #sua senha\n",
    "    database='pandemia', #Nome database que quer acessar\n",
    ")\n",
    "\n",
    "\n",
    "def run_db_query(connection, query, args=None):\n",
    "    with connection.cursor() as cursor:\n",
    "        print('Executando query:')\n",
    "        cursor.execute(query, args)\n",
    "        for result in cursor:\n",
    "            print(result)\n",
    "\n",
    "\n",
    "db = partial(run_db_query, connection)"
   ]
  },
  {
   "cell_type": "code",
   "execution_count": null,
   "metadata": {},
   "outputs": [],
   "source": [
    "db(\"SHOW TABLES FROM pandemia\")"
   ]
  },
  {
   "cell_type": "code",
   "execution_count": null,
   "metadata": {},
   "outputs": [],
   "source": [
    "db(\"SELECT * FROM vacina\")"
   ]
  },
  {
   "cell_type": "code",
   "execution_count": null,
   "metadata": {},
   "outputs": [],
   "source": [
    "db('''SELECT DISTINCT marca FROM vacina \n",
    "    INNER JOIN dose USING(id_vacina) \n",
    "    INNER JOIN pessoa USING(id_pessoa)\n",
    "    INNER JOIN pessoasintoma USING(id_pessoa)\n",
    "    INNER JOIN sintoma USING(id_sintoma)\n",
    "    WHERE (pessoasintoma.data_ocorrencia - dose.data_aplicacao) <= 5\n",
    "    ''')"
   ]
  },
  {
   "cell_type": "code",
   "execution_count": null,
   "metadata": {},
   "outputs": [],
   "source": [
    "db('''SELECT id_pessoa, nome, vacina.doses, COUNT(id_pessoa)  as cnt\n",
    "    FROM pessoa \n",
    "    LEFT OUTER JOIN dose USING(id_pessoa)\n",
    "    INNER JOIN vacina USING(id_vacina)\n",
    "    GROUP BY id_pessoa\n",
    "    HAVING(cnt < vacina.doses)\n",
    "    ''')"
   ]
  },
  {
   "cell_type": "markdown",
   "metadata": {},
   "source": [
    "db('''\n",
    "DROP VIEW IF EXISTS marca_pessoas;\n",
    "''')\n",
    "db('''\n",
    "CREATE VIEW marca_pessoas AS\n",
    "    SELECT marca , COUNT(DISTINCT id_pessoa) FROM vacina\n",
    "    INNER JOIN dose USING(id_vacina)\n",
    "    INNER JOIN pessoa USING(id_pessoa)\n",
    "    GROUP BY id_vacina\n",
    "    ''')"
   ]
  },
  {
   "cell_type": "code",
   "execution_count": null,
   "metadata": {},
   "outputs": [],
   "source": [
    "db(\"SELECT * FROM marca_pessoas\")"
   ]
  },
  {
   "cell_type": "code",
   "execution_count": null,
   "metadata": {},
   "outputs": [],
   "source": [
    "connection.close()"
   ]
  },
  {
   "cell_type": "markdown",
   "metadata": {},
   "source": [
    "## Dependências funcionais\n",
    "\n",
    "### 𝑋 → 𝑌 ⇔ duas linhas da tabela que concordam em 𝑋 deverão concordar em 𝑌\n",
    "\n",
    "\n",
    "## Chaves\n",
    "\n",
    "### Superchave: um conjunto de atributos 𝐾 é uma superchave da relação se 𝐾 + é o conjunto completo de atributos desta relação\n",
    "\n",
    "### Chave candidata: uma superchave irredutível, ou seja, nenhum atributo pode ser removido da superchave sem que seu status de superchave seja cancelado\n",
    "\n",
    "### Chave primária: a chave candidata escolhida como identificador da relação\n",
    "\n",
    "## Formas normais\n",
    "\n",
    "### Ver slides aula 14/15/16\n"
   ]
  },
  {
   "cell_type": "markdown",
   "metadata": {},
   "source": [
    "## Modelo entidade-relacionamento\n",
    "\n",
    "### Ver slides aula 16"
   ]
  },
  {
   "cell_type": "markdown",
   "metadata": {},
   "source": [
    "## Transaction"
   ]
  },
  {
   "cell_type": "code",
   "execution_count": null,
   "metadata": {},
   "outputs": [],
   "source": [
    "##Transaction garante que ou todas as querys de um bloco sejam realziadas ou que nenhuma delas seja\n",
    "##Exemplo:\n",
    "\n",
    "try:\n",
    "    db('START TRANSACTION')\n",
    "    db('INSERT INTO emprestimo (id_credor, id_devedor) VALUES (1, 2)')\n",
    "    db('INSERT INTO emprestimo (id_credor, id_devedor) VALUES (1, 1000)')\n",
    "    db('COMMIT')\n",
    "except Exception as e:\n",
    "    print(e)\n",
    "    db('ROLLBACK')"
   ]
  },
  {
   "cell_type": "markdown",
   "metadata": {},
   "source": [
    "## ACID\n",
    "\n",
    "### Atomicidade: garantir que um conjunto de comandos é executado ou rejeitado como uma única unidade.\n",
    "\n",
    "### Consistência: indica que o banco de dados passa de um estado válido para outro estado válido a cada transação.\n",
    "\n",
    "### Isolamento: capacidade de executar várias transações concorrentes sem que uma transação interfira diretamente na outra, ou seja, o usuário tem a percepção de que as transações foram executadas sequencialmente (ler slides aula 19).\n",
    "\n",
    "### Durabilidade: quando uma transação é confirmada (COMMIT), ela permanecerá gravada mesmo que a energia acabe ou o sistema trave."
   ]
  },
  {
   "cell_type": "markdown",
   "metadata": {},
   "source": [
    "## Stored procedures, triggers, views, functions\n",
    "#### (Ver notebook aula 20)"
   ]
  },
  {
   "cell_type": "markdown",
   "metadata": {},
   "source": [
    "##  Programação funcional\n",
    "\n",
    "### Programação funcional descreve o que queremos  calcular sem especificar como iterar sobre  os dados ( facilmente paralelizável).\n",
    "\n",
    "### Programação funcional usa funções puras -> Robustez: se um bloco de cálculo falha (a máquina cai), podemos reiniciar o cálculo daquele bloco apenas, sem problemas.\n",
    "\n",
    "### Ausência de estado global -> Facilita uso de memória distribuída."
   ]
  },
  {
   "cell_type": "code",
   "execution_count": null,
   "metadata": {},
   "outputs": [],
   "source": []
  }
 ],
 "metadata": {
  "kernelspec": {
   "display_name": "Python 3 (ipykernel)",
   "language": "python",
   "name": "python3"
  },
  "language_info": {
   "codemirror_mode": {
    "name": "ipython",
    "version": 3
   },
   "file_extension": ".py",
   "mimetype": "text/x-python",
   "name": "python",
   "nbconvert_exporter": "python",
   "pygments_lexer": "ipython3",
   "version": "3.7.1"
  }
 },
 "nbformat": 4,
 "nbformat_minor": 2
}
